{
 "cells": [
  {
   "cell_type": "markdown",
   "metadata": {},
   "source": [
    "假设可以由计算机得到（0,1）均匀分布的随机数z，现在想得到服从任意分布p(y)的随机数y的样本，其中假定y=f(z)。\n",
    "概率密度变量转换时，为了保证概率相等，要求p(z)dz~=p(y)dy，当然概率密度必须是正的，所以有下式：$$ p(y)=p(z)|\\frac{dz}{dy}| $$\n",
    "\n",
    "为了能得到特定的分布，只要能找到相应的函数 f 即可.\n",
    "\n",
    "对上式两边求积分:$$ z = \\int_{-\\inf}^{y} p(y) dy = h(y) $$, 取 $$f = h^{-1}$$, 也即 y 的累积分布函数的逆，即可."
   ]
  },
  {
   "cell_type": "markdown",
   "metadata": {},
   "source": [
    "# 案例1:exponential distribution\n",
    "\n",
    "$$ p(y) = λ exp(−λy) $$\n",
    "\n",
    "$$ h(y) = 1 − exp(−λy) $$\n",
    "\n",
    "$$ y = −\\lambda^{-1} ln(1 − z) $$"
   ]
  },
  {
   "cell_type": "code",
   "execution_count": 1,
   "metadata": {},
   "outputs": [],
   "source": [
    "import numpy as np\n",
    "\n",
    "lambd = 1\n",
    "z = np.random.uniform(size=[1000])\n",
    "\n",
    "y = map(lambda x: -np.log(1-x) / lambd, z.tolist())"
   ]
  }
 ],
 "metadata": {
  "kernelspec": {
   "display_name": "Python 3",
   "language": "python",
   "name": "python3"
  },
  "language_info": {
   "codemirror_mode": {
    "name": "ipython",
    "version": 3
   },
   "file_extension": ".py",
   "mimetype": "text/x-python",
   "name": "python",
   "nbconvert_exporter": "python",
   "pygments_lexer": "ipython3",
   "version": "3.6.5"
  }
 },
 "nbformat": 4,
 "nbformat_minor": 2
}
