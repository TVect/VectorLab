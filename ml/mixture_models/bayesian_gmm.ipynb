{
 "cells": [
  {
   "cell_type": "markdown",
   "metadata": {},
   "source": [
    "这里会展示 Bayesian GMM 的求解.\n",
    "\n",
    "- **Bayesian GMM**\n",
    "    \n",
    "    mcmc\n",
    "    \n",
    "    variational inference"
   ]
  },
  {
   "cell_type": "code",
   "execution_count": 1,
   "metadata": {},
   "outputs": [],
   "source": [
    "%matplotlib inline\n",
    "import pandas as pd\n",
    "import numpy as np\n",
    "import matplotlib.pyplot as plt"
   ]
  },
  {
   "cell_type": "code",
   "execution_count": 2,
   "metadata": {},
   "outputs": [
    {
     "data": {
      "image/png": "[encoded data removed]",
      "text/plain": [
       "<matplotlib.figure.Figure at 0x7f16a2bfb550>"
      ]
     },
     "metadata": {},
     "output_type": "display_data"
    }
   ],
   "source": [
    "# 原始数据\n",
    "cluster_data = pd.read_csv(\"./cluster_data.csv\")\n",
    "data = cluster_data[\"data\"]\n",
    "data_labels = cluster_data[\"label\"]\n",
    "\n",
    "_=data.hist(bins=20)"
   ]
  },
  {
   "cell_type": "code",
   "execution_count": 3,
   "metadata": {},
   "outputs": [
    {
     "data": {
      "image/png": "[encoded data removed]",
      "text/plain": [
       "<matplotlib.figure.Figure at 0x7f16d0c757b8>"
      ]
     },
     "metadata": {},
     "output_type": "display_data"
    }
   ],
   "source": [
    "def plot_clusters(data_points, data_assigns):\n",
    "    gby = pd.DataFrame({\n",
    "            'data': data_points, \n",
    "            'assignment': data_assigns}\n",
    "        ).groupby(by='assignment')['data']\n",
    "    hist_data = [gby.get_group(cid).tolist() \n",
    "                 for cid in gby.groups.keys()]\n",
    "    plt.hist(hist_data, \n",
    "             bins=20,\n",
    "             histtype='stepfilled', alpha=.5 )\n",
    "\n",
    "# 真实的 cluster label下绘制的直方图\n",
    "plot_clusters(data, data_labels)"
   ]
  },
  {
   "cell_type": "markdown",
   "metadata": {},
   "source": [
    "### Bayesian GMM\n",
    "\n",
    "假设方差已知 $\\sigma^2 = 0.01$\n",
    "\n",
    "观测到的数据为 $ x_1, x_2, ..., x_n $, 相应的隐含类别为 $ z_1, ..., z_n $.\n",
    "\n",
    "模型的参数为 $\\theta = (\\pi_1, ..., \\pi_K, u_1, ..., u_K)$, 其中 $K$ 为 cluster 的数目.\n",
    "\n",
    "为这些参数引入先验: \n",
    "\n",
    "$\\pi = (\\pi_1, ..., \\pi_K) \\sim Dirichlet(\\alpha)$\n",
    "\n",
    "$u_k \\sim Normal(\\lambda_0, \\lambda_1^2) \\quad \\forall k = 1, 2, ..., K $\n",
    "\n",
    "现在要估计的是分布 $p(z_1, ..., z_n, \\pi_1, ..., \\pi_K, u_1, ..., u_K | x_1, ..., x_n)$\n",
    "\n",
    "下面会分别展示 MCMC 的方法 和 Variational Inference 的方法来求解模型."
   ]
  },
  {
   "cell_type": "markdown",
   "metadata": {},
   "source": [
    "### 用 Gibbs 采样求解\n",
    "\n",
    "- **估计 $p(z_i | z_{-i}, \\pi, x, u)$**\n",
    "\n",
    "    $p(z_i = k| z_{-i}, \\pi, x, u) \\propto \\pi_{k} N(x_i | u_{k}, \\sigma^2)$\n",
    "\n",
    "- **估计 $p(\\pi | z, x, u)$**\n",
    "\n",
    "    已经假定了 $\\pi$ 的先验分布为 symmetric Dirichlet distribution, 参数为 $\\alpha$. \n",
    "    \n",
    "    根据多项分布和 Dirichlet distribution 的共轭性质, 容易得到后验分布为:\n",
    "    \n",
    "    $ p(\\pi | z, x, u) = Dirchlet(\\sum \\delta(z_i,1) + \\alpha, \\sum \\delta(z_i,2) + \\alpha, ..., \\sum \\delta(z_i,K) + \\alpha) $\n",
    "\n",
    "- **估计 $p(u_i | z, x, \\pi)$**\n",
    "\n",
    "    已经假定了 $u_i$ 服从的先验分布为 $Normal(\\lambda_0, \\lambda_1^2)$\n",
    "    \n",
    "    容易得到后验分布为:\n",
    "    \n",
    "    $ p(u_i | z, x, \\pi) = Normal(u_i | mean_i, var_i) $\n",
    "    \n",
    "    其中:\n",
    "    \n",
    "    $ var_i = (\\frac{1}{\\lambda_1^2} + \\frac{N_k}{\\sigma^2})^{-1} $\n",
    "    \n",
    "    $ mean_i = var_i (\\frac{\\lambda_0}{\\lambda_1^2} + \\frac{n \\bar{x_i}}{\\sigma^2})$\n",
    "    \n",
    "    上面公式中的 $N_i$ 表示的是 cluster i 中 data point 的数目, $\\bar{x_i}$ 表示 cluster i 中 data point 的样本均值.\n",
    "\n",
    "### 参考资料\n",
    "\n",
    "- [Bayesian Mixture Models and the Gibbs Sampler](http://www.cs.columbia.edu/~blei/fogm/2015F/notes/mixtures-and-gibbs.pdf)\n",
    "\n",
    "- [Conjugate Bayesian analysis of the Gaussian distribution](https://www.cs.ubc.ca/~murphyk/Papers/bayesGauss.pdf)\n",
    "\n",
    "- [blog: Fitting a Mixture Model with Gibbs Sampling](https://dp.tdhopper.com/mixture-model/)"
   ]
  },
  {
   "cell_type": "code",
   "execution_count": 4,
   "metadata": {},
   "outputs": [],
   "source": [
    "from scipy.stats import dirichlet, norm\n",
    "\n",
    "\n",
    "class BayesianGMM:\n",
    "    \n",
    "    def __init__(self, n_clusters=3, variance=0.01):\n",
    "        self.n_clusters = n_clusters\n",
    "        self.variance = variance\n",
    "        self.std = np.sqrt(self.variance)\n",
    "    \n",
    "    def fit(self, data, num_epoches=10, alpha=1, lambda0=0, lambda1=1, verbose=False):\n",
    "        '''\n",
    "        @param alpha: symmetric Dirichlet distribution 的参数\n",
    "        @param lambda0: 均值的先验高斯分布的均值\n",
    "        @param lambda1: 均值的先验高斯分布的标准差\n",
    "        '''\n",
    "        data_size = data.shape[0]\n",
    "        # initialize all the parameters\n",
    "        data_assigns = np.random.randint(low=0, high=self.n_clusters, size=data_size)\n",
    "        prior_mean = lambda0\n",
    "        prior_var = np.power(lambda1, 2)\n",
    "        \n",
    "        ss = pd.Series(data)\n",
    "        for i_epoch in range(num_epoches):\n",
    "            grouped = data.groupby(data_assigns)\n",
    "            \n",
    "            # sample p(\\pi)\n",
    "            sample_counter = grouped.count()\n",
    "            self.pi = dirichlet([alpha + sample_counter.get(i, 0) for i in range(self.n_clusters)]).rvs(1)[0]\n",
    "\n",
    "            # sample p(u_i)\n",
    "            sample_mean = grouped.mean()\n",
    "            var = [1 / (1/prior_var + sample_counter.get(i, 0) / self.variance) for i in range(self.n_clusters)]\n",
    "            mean = np.array(var) * np.array([prior_mean / prior_var + sample_counter.get(i, 0) * sample_mean.get(i, 0) / self.variance for i in range(self.n_clusters)])\n",
    "            self.u = [norm.rvs(loc=mean[i], scale=np.sqrt(var[i]), size=1)[0] for i in range(self.n_clusters)] \n",
    "            \n",
    "\n",
    "            # sample p(z_i | z_{-i})\n",
    "            for data_i, data_point in enumerate(data):\n",
    "                prob = np.array([self.pi[k] * norm.pdf(data_point, loc=self.u[k], scale=self.std) for k in range(self.n_clusters)])\n",
    "                prob = prob / prob.sum()\n",
    "                data_assigns[data_i] = np.random.choice(self.n_clusters, p=prob)\n",
    "            \n",
    "            if verbose:\n",
    "                print(\"---------- iter: %s ----------\" % i_epoch)\n",
    "                # print(\"\\t\".join(\"{}:{}\".format(data_i, data_cnt) for data_i, data_cnt in sample_counter.items()))\n",
    "                print(\"u:\", self.u)\n",
    "        \n",
    "        return data_assigns\n"
   ]
  },
  {
   "cell_type": "code",
   "execution_count": 5,
   "metadata": {},
   "outputs": [
    {
     "data": {
      "image/png": "[encoded data removed]",
      "text/plain": [
       "<matplotlib.figure.Figure at 0x7f16a07cbf98>"
      ]
     },
     "metadata": {},
     "output_type": "display_data"
    }
   ],
   "source": [
    "bgmm = BayesianGMM()\n",
    "data_assigns = bgmm.fit(data, num_epoches=100)\n",
    "\n",
    "plot_clusters(data, data_assigns)"
   ]
  },
  {
   "cell_type": "markdown",
   "metadata": {},
   "source": [
    "### 用 Variational Inference 求解\n",
    "\n",
    "联合概率公式为: $ p(X, Z, \\pi, u) = p(X|Z, u) p(Z|\\pi) p(\\pi) p(u) $\n",
    "\n",
    "现考虑用如下分解的变分分布: $ q(Z, \\pi, u) = q(Z) q(\\pi, u) $ 对 $p(Z, \\pi, u | X)$ 做近似.\n",
    "\n",
    "这里会用到 mean field theory, 其细节可以参看 PRML Chapter 10.1.1 Factorized distributions.\n",
    "\n",
    "- **估计 $ q(Z) $**\n",
    "\n",
    "$$ ln \\, q^*(Z) \\propto \\mathbb{E}_{\\pi}[ln \\, p(Z|\\pi)] + \\mathbb{E}_{u}[ln \\, p(X | Z, u)] $$\n",
    "\n",
    "$$ ln \\, q^*(Z) \\propto \\sum_{n=1}^{N} \\sum_{k=1}^{K} z_{nk} ln \\, \\rho_{n, k} $$\n",
    "\n",
    "$$ where \\quad ln \\, \\rho_{nk} = \\mathbb{E}_{\\pi}[ln \\, p(\\pi_k)] + \\mathbb{E}_{u} [ln \\, N(x_n; u_k, \\sigma^2 )] $$\n",
    "\n",
    "两边同时做 exp, 得到:\n",
    "\n",
    "$$ q^*(Z) \\propto \\prod_{n=1}^{N} \\prod_{k=1}^{K} \\rho_{n, k}^{z_{nk}} $$\n",
    "\n",
    "$$ q^*(Z) = \\prod_{n=1}^{N} \\prod_{k=1}^{K} r_{n, k}^{z_{nk}} $$\n",
    "\n",
    "$$ where \\quad r_{nk} = \\frac{\\rho_{nk}}{\\sum_{j=1}^{K} \\rho_{nj}} $$\n",
    "\n",
    "实际上, 对于离散分布 $q(z)$ 来说, $E[z_{nk}] = r_{nk}$, 也即 $r_{nk}$ 扮演了 responsibility 的角色.\n",
    "\n",
    "另外, $\\rho_{nk}$ 右侧两项可以分别求出:\n",
    "\n",
    "$$ \\mathbb{E}_{\\pi}[ln \\, p(\\pi_k)] = digamma(\\alpha_k) - digamma(\\sum \\alpha_k) $$\n",
    "\n",
    "$$\n",
    "\\begin{aligned}\n",
    "E_u[ln \\, N(x_n; u_k, \\sigma^2)] & = E_{u_k}[ln \\, N(x_n; u_k, \\sigma^2)] \\\\\n",
    "& = E_{u_k}[\\frac{(x_n-u_k)^2}{-2\\sigma^2} - ln \\, (\\sqrt{2\\pi}\\sigma)] \\\\\n",
    "& = \\frac{1}{-2 \\sigma^2} (x_n^2 - 2 x_n u_k^* + \\sigma_k^{2*} + u_k^{*2}) - ln \\, (\\sqrt{2\\pi}\\sigma) \n",
    "\\end{aligned}\n",
    "$$\n",
    "\n",
    "其中 $\\alpha_k$ 可以从下面 $q(\\pi)$ 中得到: $\\alpha_k = N_k + \\alpha_0$\n",
    "\n",
    "- **估计 $ q(\\pi, u) $**\n",
    "\n",
    "$$ \n",
    "\\begin{aligned}\n",
    "ln \\, q^*(\\pi, u) & \\propto ln \\, p(\\pi) + ln \\, p(u) + \\mathbb{E}_Z [ln \\, p(Z | \\pi)] + \\mathbb{E}_Z [ln \\, p(X | Z, u)] \\\\\n",
    "& = ln \\, p(\\pi) + \\sum_{k=1}^{K} ln \\, p(u_k) + \\mathbb{E}_Z [ln \\, p(Z | \\pi)] + \\mathbb{E}_Z [ln \\, p(X | Z, u)] \\\\\n",
    "& = ln \\, p(\\pi) + \\sum_{k=1}^{K} ln \\, p(u_k) + \\sum_{n=1}^{N} \\sum_{k=1}^{K} \\mathbb{E}_Z [z_{nk} ln \\, \\pi_k] + \\sum_{n=1}^{N} \\sum_{k=1}^{K} \\mathbb{E}_Z [z_{nk} ln \\, N(x_n | u_k, \\sigma^2)]\n",
    "\\end{aligned}\n",
    "$$\n",
    "\n",
    "注意到, 上式右边可以按 $ \\pi, u_1, ..., u_K $ 分开, 所以可以做分解 $ q(\\pi, u) = q(\\pi) \\prod_{k} q(u_k) $.\n",
    "\n",
    "下面分别求 $ q(\\pi) $ 和 $ q(u_k) $ 的表达式.\n",
    "\n",
    "1. **估计 $ q(\\pi) $**\n",
    "\n",
    "从前面的式子右边中分离出包含 $\\pi$ 的项, 有:\n",
    "\n",
    "$$ ln \\, q^*(\\pi) \\propto ln \\, p(\\pi) + \\sum_{n=1}^{N} \\sum_{k=1}^{K} \\mathbb{E}_Z [z_{nk} ln \\, \\pi_k]] $$\n",
    "\n",
    "两边做 exp, 有:\n",
    "\n",
    "$$\n",
    "\\begin{aligned}\n",
    "q^*(\\pi) & \\propto p(\\pi)  \\prod_{n=1}^{N} \\prod_{k=1}^{K} exp(r_{nk} ln \\, \\pi_k) = p(\\pi)  \\prod_{n=1}^{N} \\prod_{k=1}^{K} {\\pi_k}^{r_{nk}} = p(\\pi) \\prod_{k=1}^{K} {\\pi_k}^{N_k} \\\\\n",
    "where & \\quad N_k = \\sum_{n=1}^{N} r_{nk}\n",
    "\\end{aligned}\n",
    "$$\n",
    "\n",
    "容易知道: $ q^*(\\pi) = Dirichlet(\\pi | N_1+\\alpha, ..., N_k + \\alpha)$\n",
    "\n",
    "2. **估计 $ q(u_k) $**\n",
    "\n",
    "从前面的式子右边中分离出包含 $u_K$ 的项, 有:\n",
    "\n",
    "$$ \n",
    "\\begin{aligned}\n",
    "ln q^*(u_k) & \\propto ln \\, p(u_k) + \\sum_{n=1}^{N} \\mathbb{E}_{Z}[z_{nk} ln \\, N(x_n|u_k, \\sigma^2)] \\\\\n",
    "& = ln \\, p(u_k) + \\sum_{n=1}^{N} r_{nk} ln \\, N(x_n|u_k, \\sigma^2) \\\\\\\\\n",
    "q^*(u_k) & \\propto p(u_k) \\prod_{n=1}^{N} N(x_n|u_k, \\sigma^2)^{r_{nk}}\n",
    "\\end{aligned}\n",
    "$$\n",
    "\n",
    "上面类似于用高斯分布做高斯分布均值的共轭先验, 可以得到均值的后验分布仍为高斯分布, 简单的配方法可以得到其均值方差如下:\n",
    "\n",
    "$$ \n",
    "\\begin{aligned}\n",
    "u_k^* & = \\frac{\\sigma^2}{N_k \\lambda_1^2 + \\sigma^2} \\lambda_0 + \\frac{N_k \\lambda_1^2}{N_k * \\lambda_1^2 + \\sigma^2} u_k^{ML} \\\\\n",
    "\\frac{1}{\\sigma_k^{2*}} & = \\frac{1}{\\lambda_1^2} + \\frac{N_k}{\\sigma^2} \\\\\n",
    "where & \\quad u_k^{ML} = \\frac{1}{N_k} \\sum_{n=1}^{N} r_{nk}x_n\n",
    "\\end{aligned}\n",
    "$$\n",
    "\n",
    "### 参考资料\n",
    "\n",
    "- [变分推断（二）：贝叶斯高斯混合模型](http://cairohy.github.io/2018/03/03/vi/VI-2/)\n",
    "\n",
    "- [slide: Variational Mixture of Gaussians](https://cedar.buffalo.edu/~srihari/CSE574/Chap10/10.3VariationalGMM.pdf)\n",
    "\n",
    "- [PRML Chapter 10.2 Variational Mixture of Gaussians]()"
   ]
  },
  {
   "cell_type": "code",
   "execution_count": 6,
   "metadata": {},
   "outputs": [],
   "source": [
    "from scipy.stats import dirichlet, norm\n",
    "from scipy.special import digamma\n",
    "\n",
    "class BayesianGMM_VI:\n",
    "\n",
    "    def __init__(self, n_clusters=3, variance=0.01):\n",
    "        self.n_clusters = n_clusters\n",
    "        self.variance = variance\n",
    "        self.std = np.sqrt(self.variance)\n",
    "    \n",
    "    def fit(self, data, num_epoches=10, alpha=1, lambda0=0, lambda1=1, verbose=False):\n",
    "        '''\n",
    "        @param alpha: symmetric Dirichlet distribution 的参数\n",
    "        @param lambda0: 均值的先验高斯分布的均值\n",
    "        @param lambda1: 均值的先验高斯分布的标准差\n",
    "        '''\n",
    "        data_size = data.shape[0]\n",
    "        data_array = np.array(data)[:, np.newaxis]\n",
    "\n",
    "        prior_vars = np.ones(self.n_clusters) * np.power(lambda1, 2)\n",
    "        prior_means = np.ones(self.n_clusters) * lambda0\n",
    "        prior_alphas = np.ones(self.n_clusters) * alpha\n",
    "        \n",
    "        qm_alphas = np.copy(prior_alphas)\n",
    "        qm_means = np.copy(prior_means)\n",
    "        qm_vars = np.copy(prior_vars)\n",
    "\n",
    "        # random initialize rs\n",
    "        rhos = np.zeros([data_size, self.n_clusters])\n",
    "        rs = dirichlet.rvs(size=data_size, alpha=prior_alphas)\n",
    "\n",
    "        # iteration\n",
    "        for i_epoch in range(num_epoches):\n",
    "            # update q(\\pi)\n",
    "            qm_alphas = np.sum(rs, axis=0) + prior_alphas\n",
    "\n",
    "            # update q(u)\n",
    "            Nks = rs.sum(axis=0)\n",
    "            means_mle = np.multiply(data_array, rs).sum(axis=0) / Nks\n",
    "            qm_vars = 1 / (1/prior_vars + Nks / self.variance)\n",
    "            ratios = np.concatenate((np.ones(self.n_clusters) * self.variance, Nks * prior_vars)).reshape([2, self.n_clusters])\n",
    "            ratios = ratios / np.sum(ratios, axis=0)\n",
    "            values = np.concatenate([prior_means, means_mle]).reshape([2, self.n_clusters])\n",
    "            qm_means = np.multiply(ratios, values).sum(axis=0)\n",
    "            \n",
    "            # update q(Z)\n",
    "            expect_lnpi = digamma(qm_alphas) - digamma(np.sum(qm_alphas))\n",
    "            expect_lnnorm = (np.square(data_array) - 2 * data_array * qm_means + qm_vars + np.square(qm_means)) / (-2 * self.variance)\n",
    "            rhos = np.exp(expect_lnpi + expect_lnnorm)\n",
    "            rs = rhos / rhos.sum(axis=1, keepdims=True)\n",
    "            \n",
    "            if verbose:\n",
    "                print(\"============================ i_epoch: \", i_epoch)\n",
    "                print(\"qm_alphas:\", qm_alphas)\n",
    "                print(\"Nks:\", Nks)\n",
    "                print(\"qm_means:\", qm_means)\n",
    "                print(\"qm_vars:\", qm_vars)\n",
    "\n",
    "        return [np.random.choice(self.n_clusters, p=rs[i]) for i in range(data_size)]"
   ]
  },
  {
   "cell_type": "code",
   "execution_count": 7,
   "metadata": {},
   "outputs": [
    {
     "data": {
      "image/png": "[encoded data removed]",
      "text/plain": [
       "<matplotlib.figure.Figure at 0x7f168e62d908>"
      ]
     },
     "metadata": {},
     "output_type": "display_data"
    }
   ],
   "source": [
    "bgmm_vi = BayesianGMM_VI()\n",
    "data_assigns_vi = bgmm_vi.fit(data, num_epoches=100, verbose=False)\n",
    "# print(data_assigns_vi)\n",
    "plot_clusters(data, data_assigns_vi)"
   ]
  }
 ],
 "metadata": {
  "kernelspec": {
   "display_name": "Python 3",
   "language": "python",
   "name": "python3"
  },
  "language_info": {
   "codemirror_mode": {
    "name": "ipython",
    "version": 3
   },
   "file_extension": ".py",
   "mimetype": "text/x-python",
   "name": "python",
   "nbconvert_exporter": "python",
   "pygments_lexer": "ipython3",
   "version": "3.6.1"
  }
 },
 "nbformat": 4,
 "nbformat_minor": 2
}
