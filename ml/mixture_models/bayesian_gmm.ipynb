{
 "cells": [
  {
   "cell_type": "markdown",
   "metadata": {},
   "source": [
    "这里会展示 Bayesian GMM 的求解.\n",
    "\n",
    "- **Bayesian GMM**\n",
    "    \n",
    "    mcmc\n",
    "    \n",
    "    variational inference"
   ]
  },
  {
   "cell_type": "code",
   "execution_count": 1,
   "metadata": {},
   "outputs": [],
   "source": [
    "%matplotlib inline\n",
    "import pandas as pd\n",
    "import numpy as np\n",
    "import matplotlib.pyplot as plt"
   ]
  },
  {
   "cell_type": "code",
   "execution_count": 2,
   "metadata": {},
   "outputs": [
    {
     "data": {
      "image/png": "[encoded data removed]",
      "text/plain": [
       "<matplotlib.figure.Figure at 0x7f31e968c5c0>"
      ]
     },
     "metadata": {},
     "output_type": "display_data"
    }
   ],
   "source": [
    "# 原始数据\n",
    "cluster_data = pd.read_csv(\"./cluster_data.csv\")\n",
    "data = cluster_data[\"data\"]\n",
    "data_labels = cluster_data[\"label\"]\n",
    "\n",
    "_=data.hist(bins=20)"
   ]
  },
  {
   "cell_type": "code",
   "execution_count": 3,
   "metadata": {},
   "outputs": [
    {
     "data": {
      "image/png": "[encoded data removed]",
      "text/plain": [
       "<matplotlib.figure.Figure at 0x7f31e9d08f60>"
      ]
     },
     "metadata": {},
     "output_type": "display_data"
    }
   ],
   "source": [
    "def plot_clusters(data_points, data_assigns):\n",
    "    gby = pd.DataFrame({\n",
    "            'data': data_points, \n",
    "            'assignment': data_assigns}\n",
    "        ).groupby(by='assignment')['data']\n",
    "    hist_data = [gby.get_group(cid).tolist() \n",
    "                 for cid in gby.groups.keys()]\n",
    "    plt.hist(hist_data, \n",
    "             bins=20,\n",
    "             histtype='stepfilled', alpha=.5 )\n",
    "\n",
    "# 真实的 cluster label下绘制的直方图\n",
    "plot_clusters(data, data_labels)"
   ]
  },
  {
   "cell_type": "markdown",
   "metadata": {},
   "source": [
    "### Bayesian GMM\n",
    "\n",
    "假设方差已知 $\\sigma^2 = 0.01$\n",
    "\n",
    "观测到的数据为 $ x_1, x_2, ..., x_n $, 相应的隐含类别为 $ z_1, ..., z_n $.\n",
    "\n",
    "模型的参数为 $\\theta = (\\pi_1, ..., \\pi_K, u_1, ..., u_K)$, 其中 $K$ 为 cluster 的数目.\n",
    "\n",
    "为这些参数引入先验: \n",
    "\n",
    "$\\pi = (\\pi_1, ..., \\pi_K) \\sim Dirichlet(\\alpha)$\n",
    "\n",
    "$u_k \\sim Normal(\\lambda_0, \\lambda_1^2) \\quad \\forall k = 1, 2, ..., K $\n",
    "\n",
    "现在要估计的是分布 $p(z_1, ..., z_n, \\pi_1, ..., \\pi_K, u_1, ..., u_K | x_1, ..., x_n)$\n",
    "\n",
    "下面会分别展示 MCMC 的方法 和 Variational Inference 的方法来求解模型."
   ]
  },
  {
   "cell_type": "markdown",
   "metadata": {},
   "source": [
    "### 用 Gibbs 采样求解\n",
    "\n",
    "- **估计 $p(z_i | z_{-i}, \\pi, x, u)$**\n",
    "\n",
    "    $p(z_i = k| z_{-i}, \\pi, x, u) \\propto \\pi_{k} N(x_i | u_{k}, \\sigma^2)$\n",
    "\n",
    "- **估计 $p(\\pi | z, x, u)$**\n",
    "\n",
    "    已经假定了 $\\pi$ 的先验分布为 symmetric Dirichlet distribution, 参数为 $\\alpha$. \n",
    "    \n",
    "    根据多项分布和 Dirichlet distribution 的共轭性质, 容易得到后验分布为:\n",
    "    \n",
    "    $ p(\\pi | z, x, u) = Dirchlet(\\sum \\delta(z_i,1) + \\alpha, \\sum \\delta(z_i,2) + \\alpha, ..., \\sum \\delta(z_i,K) + \\alpha) $\n",
    "\n",
    "- **估计 $p(u_i | z, x, \\pi)$**\n",
    "\n",
    "    已经假定了 $u_i$ 服从的先验分布为 $Normal(\\lambda_0, \\lambda_1^2)$\n",
    "    \n",
    "    容易得到后验分布为:\n",
    "    \n",
    "    $ p(u_i | z, x, \\pi) = Normal(u_i | mean_i, var_i) $\n",
    "    \n",
    "    其中:\n",
    "    \n",
    "    $ var_i = (\\frac{1}{\\lambda_1^2} + \\frac{N_k}{\\sigma^2})^{-1} $\n",
    "    \n",
    "    $ mean_i = var_i (\\frac{\\lambda_0}{\\lambda_1^2} + \\frac{n \\bar{x_i}}{\\sigma^2})$\n",
    "    \n",
    "    上面公式中的 $N_i$ 表示的是 cluster i 中 data point 的数目, $\\bar{x_i}$ 表示 cluster i 中 data point 的样本均值.\n",
    "\n",
    "### 参考资料\n",
    "\n",
    "- [Bayesian Mixture Models and the Gibbs Sampler](http://www.cs.columbia.edu/~blei/fogm/2015F/notes/mixtures-and-gibbs.pdf)\n",
    "\n",
    "- [Conjugate Bayesian analysis of the Gaussian distribution](https://www.cs.ubc.ca/~murphyk/Papers/bayesGauss.pdf)\n",
    "\n",
    "- [blog: Fitting a Mixture Model with Gibbs Sampling](https://dp.tdhopper.com/mixture-model/)"
   ]
  },
  {
   "cell_type": "code",
   "execution_count": 4,
   "metadata": {},
   "outputs": [],
   "source": [
    "from scipy.stats import dirichlet, norm\n",
    "\n",
    "\n",
    "class BayesianGMM:\n",
    "    \n",
    "    def __init__(self, n_clusters=3, variance=0.01):\n",
    "        self.n_clusters = n_clusters\n",
    "        self.variance = variance\n",
    "        self.std = np.sqrt(self.variance)\n",
    "    \n",
    "    def fit(self, data, num_epoches=10, alpha=1, lambda0=0, lambda1=1, verbose=False):\n",
    "        '''\n",
    "        @param alpha: symmetric Dirichlet distribution 的参数\n",
    "        @param lambda0: 均值的先验高斯分布的均值\n",
    "        @param lambda1: 均值的先验高斯分布的标准差\n",
    "        '''\n",
    "        data_size = data.shape[0]\n",
    "        # initialize all the parameters\n",
    "        data_assigns = np.random.randint(low=0, high=self.n_clusters, size=data_size)\n",
    "        prior_mean = lambda0\n",
    "        prior_var = np.power(lambda1, 2)\n",
    "        \n",
    "        ss = pd.Series(data)\n",
    "        for i_epoch in range(num_epoches):\n",
    "            grouped = data.groupby(data_assigns)\n",
    "            \n",
    "            # sample p(\\pi)\n",
    "            sample_counter = grouped.count()\n",
    "            self.pi = dirichlet([alpha + sample_counter.get(i, 0) for i in range(self.n_clusters)]).rvs(1)[0]\n",
    "\n",
    "            # sample p(u_i)\n",
    "            sample_mean = grouped.mean()\n",
    "            var = [1 / (1/prior_var + sample_counter.get(i, 0) / self.variance) for i in range(self.n_clusters)]\n",
    "            mean = np.array(var) * np.array([prior_mean / prior_var + sample_counter.get(i, 0) * sample_mean.get(i, 0) / self.variance for i in range(self.n_clusters)])\n",
    "            self.u = [norm.rvs(loc=mean[i], scale=np.sqrt(var[i]), size=1)[0] for i in range(self.n_clusters)] \n",
    "            \n",
    "\n",
    "            # sample p(z_i | z_{-i})\n",
    "            for data_i, data_point in enumerate(data):\n",
    "                prob = np.array([self.pi[k] * norm.pdf(data_point, loc=self.u[k], scale=self.std) for k in range(self.n_clusters)])\n",
    "                prob = prob / prob.sum()\n",
    "                data_assigns[data_i] = np.random.choice(self.n_clusters, p=prob)\n",
    "            \n",
    "            if verbose:\n",
    "                print(\"---------- iter: %s ----------\" % i_epoch)\n",
    "                # print(\"\\t\".join(\"{}:{}\".format(data_i, data_cnt) for data_i, data_cnt in sample_counter.items()))\n",
    "                print(\"u:\", self.u)\n",
    "        \n",
    "        return data_assigns\n"
   ]
  },
  {
   "cell_type": "code",
   "execution_count": 5,
   "metadata": {},
   "outputs": [
    {
     "data": {
      "image/png": "[encoded data removed]",
      "text/plain": [
       "<matplotlib.figure.Figure at 0x7f31e7290358>"
      ]
     },
     "metadata": {},
     "output_type": "display_data"
    }
   ],
   "source": [
    "bgmm = BayesianGMM()\n",
    "data_assigns = bgmm.fit(data, num_epoches=100)\n",
    "\n",
    "plot_clusters(data, data_assigns)"
   ]
  }
 ],
 "metadata": {
  "kernelspec": {
   "display_name": "Python 3",
   "language": "python",
   "name": "python3"
  },
  "language_info": {
   "codemirror_mode": {
    "name": "ipython",
    "version": 3
   },
   "file_extension": ".py",
   "mimetype": "text/x-python",
   "name": "python",
   "nbconvert_exporter": "python",
   "pygments_lexer": "ipython3",
   "version": "3.6.1"
  }
 },
 "nbformat": 4,
 "nbformat_minor": 2
}
