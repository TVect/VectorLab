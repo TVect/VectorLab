{
 "cells": [
  {
   "cell_type": "markdown",
   "metadata": {},
   "source": [
    "这里会展示 GMM 的两个案例:\n",
    "\n",
    "1. 演示 EM Algorithm 求解 GMM 中参数, 其中假设方差是已知的.\n",
    "\n",
    "2. 同时也会演示 GMM 中的 Singularity 问题, 其中假设方差是待估计的."
   ]
  },
  {
   "cell_type": "code",
   "execution_count": 1,
   "metadata": {},
   "outputs": [],
   "source": [
    "%matplotlib inline\n",
    "import pandas as pd\n",
    "import numpy as np\n",
    "import matplotlib.pyplot as plt"
   ]
  },
  {
   "cell_type": "code",
   "execution_count": 2,
   "metadata": {},
   "outputs": [
    {
     "data": {
      "image/png": "[encoded data removed]",
      "text/plain": [
       "<matplotlib.figure.Figure at 0x7f18c1ab2ac8>"
      ]
     },
     "metadata": {},
     "output_type": "display_data"
    }
   ],
   "source": [
    "# 原始数据\n",
    "cluster_data = pd.read_csv(\"./cluster_data.csv\")\n",
    "data = cluster_data[\"data\"]\n",
    "data_labels = cluster_data[\"label\"]\n",
    "\n",
    "_=data.hist(bins=20)"
   ]
  },
  {
   "cell_type": "code",
   "execution_count": 3,
   "metadata": {},
   "outputs": [
    {
     "data": {
      "image/png": "[encoded data removed]",
      "text/plain": [
       "<matplotlib.figure.Figure at 0x7f18f01987b8>"
      ]
     },
     "metadata": {},
     "output_type": "display_data"
    }
   ],
   "source": [
    "def plot_clusters(data_points, data_assigns):\n",
    "    gby = pd.DataFrame({\n",
    "            'data': data_points, \n",
    "            'assignment': data_assigns}\n",
    "        ).groupby(by='assignment')['data']\n",
    "    hist_data = [gby.get_group(cid).tolist() \n",
    "                 for cid in gby.groups.keys()]\n",
    "    plt.hist(hist_data, \n",
    "             bins=20,\n",
    "             histtype='stepfilled', alpha=.5 )\n",
    "\n",
    "# 真实的 cluster label下绘制的直方图\n",
    "plot_clusters(data, data_labels)"
   ]
  },
  {
   "cell_type": "markdown",
   "metadata": {},
   "source": [
    "### 使用 EM Algorithm 求解 GMM\n",
    "\n",
    "现假设方差已知 $\\sigma^2 = 0.01$\n",
    "\n",
    "观测到的数据为 $ x_1, x_2, ..., x_n $, 相应的隐含类别为 $ z_1, ..., z_n $.\n",
    "\n",
    "待估计的参数为 $\\theta = (\\alpha_1, ..., \\alpha_K, u_1, ..., u_K)$, 其中 $K$ 为 cluster 的数目.\n",
    "\n",
    "EM Algorithm 的迭代公式如下:\n",
    "\n",
    "- **E-step**:\n",
    "\n",
    "$$ p(z_i|x_i, \\theta^{old}) = \\frac{\\alpha_{z_{i}}N(x_{i}|u_{z_{i}}, \\sigma^2)}{\\sum_{l=1}^{k}\\alpha_{l}N(x_{i}|u_{l}, \\sigma^2) } $$\n",
    "\n",
    "- **M-step**:\n",
    "\n",
    "$$ \\alpha_{l} = \\frac {\\sum_{j=1}^{n} p(l | x_{j}, \\theta^{old})}{n} $$\n",
    "    \n",
    "$$ u_{l} = \\frac {\\sum_{j=1}^{n} p(l | x_{j}, \\theta^{old}) x_{j}} {\\sum_{j=1}^{n} p(l | x_{j}, \\theta^{old})} $$"
   ]
  },
  {
   "cell_type": "code",
   "execution_count": 4,
   "metadata": {},
   "outputs": [],
   "source": [
    "from scipy.stats import dirichlet, norm\n",
    "\n",
    "class GMM:\n",
    "    \n",
    "    def __init__(self, n_clusters=3, variance=0.01):\n",
    "        self.n_clusters = n_clusters\n",
    "        self.variance = variance\n",
    "        self.std = np.sqrt(self.variance)\n",
    "        \n",
    "        self.means = norm().rvs(n_clusters)\n",
    "        self.alphas = dirichlet([1] * n_clusters).rvs(1)[0]\n",
    "\n",
    "    def fit(self, data, num_epoches=100):\n",
    "        data_size = data.shape[0]\n",
    "        std = np.sqrt(self.variance)\n",
    "\n",
    "        responsibility = np.zeros_like([data_size, self.n_clusters])\n",
    "        for i_epoch in range(num_epoches):\n",
    "            # e-step\n",
    "            responsibility = np.array([self.calc_prob(data[data_i]) for data_i in range(data_size)])\n",
    "            responsibility = np.divide(responsibility, responsibility.sum(axis=1)[:, np.newaxis])\n",
    "\n",
    "            # m-step\n",
    "            responsibility_sum = responsibility.sum(axis=0)\n",
    "            self.alphas = responsibility_sum / data_size\n",
    "            self.means = (responsibility * data.values[:, np.newaxis]).sum(axis=0) / responsibility_sum        \n",
    "\n",
    "    def calc_prob(self, data_point):\n",
    "        probs = np.array([norm.pdf(data_point, loc=self.means[cluster_i], scale=self.std) for cluster_i in range(self.n_clusters)])\n",
    "        return probs\n",
    "\n",
    "    def predict_pdf(self, data_point):\n",
    "        probs = self.calc_prob(data_point)\n",
    "        return np.sum(probs * self.alphas)\n",
    "    \n",
    "    def predict_prob(self, data_point):\n",
    "        probs = self.calc_prob(data_point)\n",
    "        return np.divide(probs, probs.sum())"
   ]
  },
  {
   "cell_type": "code",
   "execution_count": 5,
   "metadata": {},
   "outputs": [
    {
     "data": {
      "image/png": "[encoded data removed]",
      "text/plain": [
       "<matplotlib.figure.Figure at 0x7f18bf78de10>"
      ]
     },
     "metadata": {},
     "output_type": "display_data"
    }
   ],
   "source": [
    "gmm = GMM()\n",
    "gmm.fit(data)\n",
    "\n",
    "# 使用 em 求解出来的数据的直方图\n",
    "data_assigns = [gmm.predict_prob(data_point=data_item).argmax() for data_item in data]\n",
    "plot_clusters(data, data_assigns)"
   ]
  },
  {
   "cell_type": "markdown",
   "metadata": {},
   "source": [
    "### GMM 中的 Singularity 问题\n",
    "\n",
    "关于 GMM 中的 Singularity 问题详细说明可以参考 **PRML Chapter 09 Mixtures of Gaussians Page 434**\n",
    "\n",
    ">GMM 中 singularity 出现的原因:\n",
    ">\n",
    ">The main point here is that when fitting a single Gaussian, all the data points have to share one set of parameters μ,σ, unlike in the mixture case where one component can \"focus\" on one data point without penalty to the overall data likelihood."
   ]
  },
  {
   "cell_type": "markdown",
   "metadata": {},
   "source": [
    "\n",
    "**这里假设方差是未知的，以演示GMM中的Singularity现象**\n",
    "\n",
    "观测到的数据为 $ x_1, x_2, ..., x_n $, 相应的隐含类别为 $ z_1, ..., z_n $.\n",
    "\n",
    "待估计的参数为 $\\theta = (\\alpha_1, ..., \\alpha_K, u_1, ..., u_K, \\sigma_1, ..., \\sigma_K)$, 其中 $K$ 为 cluster 的数目.\n",
    "\n",
    "EM Algorithm 的迭代公式如下:\n",
    "\n",
    "- **E-step**:\n",
    "\n",
    "$$ p(z_i|x_i, \\theta^{old}) = \\frac{\\alpha_{z_{i}}N(x_{i}|u_{z_{i}}, \\sigma_{z_i}^2)}{\\sum_{l=1}^{k}\\alpha_{l}N(x_{i}|u_{l}, \\sigma_l^2) } $$\n",
    "\n",
    "- **M-step**:\n",
    "\n",
    "$$ \\alpha_{l} = \\frac {\\sum_{j=1}^{n} p(l | x_{j}, \\theta^{old})}{n} $$\n",
    "    \n",
    "$$ u_{l} = \\frac {\\sum_{j=1}^{n} p(l | x_{j}, \\theta^{old}) x_{j}} {\\sum_{j=1}^{n} p(l | x_{j}, \\theta^{old})} $$\n",
    "\n",
    "$$\\sigma_l = \\frac{\\sum_{j=1}^{n} p(l | x_j, \\theta^{old}) (x_j-u_{z_j})^2}{\\sum_{j=1}^{n} p(l | x_j, \\theta^{old})}$$"
   ]
  },
  {
   "cell_type": "markdown",
   "metadata": {},
   "source": [
    "下面的代码和前面类似.\n",
    "为了演示 GMM 中可能的 Singularity 的问题, 这里做了一些修改.\n",
    "1. 假设方差未知, M-step 中会对方差求估计值\n",
    "2. 用于测试的数据点重新构造了. 总数据量更小, 不同成分的数据量偏差更大.\n",
    "3. EM 算法当中, 一开始就初始化某个mean为某个数据点, 其初始 std 设置的很小\n",
    "\n",
    "从最后的结果可以看到 log_likelihood 在迭代过程中会趋向于 infinity, 出现了所谓的 Singularity 问题."
   ]
  },
  {
   "cell_type": "code",
   "execution_count": 6,
   "metadata": {},
   "outputs": [],
   "source": [
    "from scipy.stats import dirichlet, norm\n",
    "\n",
    "class GMM_Singularity:\n",
    "    \n",
    "    def __init__(self, n_clusters=3):\n",
    "        self.n_clusters = n_clusters\n",
    "        \n",
    "        self.means = norm().rvs(n_clusters)\n",
    "        self.alphas = dirichlet([1] * n_clusters).rvs(1)[0]\n",
    "        self.stds = np.abs(norm().rvs(n_clusters))\n",
    "\n",
    "    def fit(self, data, num_epoches=100):\n",
    "        data_size = data.shape[0]\n",
    "\n",
    "        # 初始化某个mean为某个数据点, 其初始 std 设置的很小\n",
    "        self.means = np.array([min(data.values), 0, 1])\n",
    "        self.stds = np.array([0.01, 1, 1])\n",
    "        responsibility = np.zeros_like([data_size, self.n_clusters])\n",
    "        for i_epoch in range(num_epoches):\n",
    "            print(\"-------------step: %d\" % i_epoch)\n",
    "            print(\"means:\", self.means, \"stds:\", self.stds, \"alphas:\", self.alphas)\n",
    "            # log_likelihood = np.sum([np.log(self.calc_prob(data[data_i])) for data_i in range(data_size)])\n",
    "            print(\"log_likelihood:\", np.sum([np.log(self.predict_pdf(data[data_i])) for data_i in range(data_size)]))\n",
    "\n",
    "            # e-step\n",
    "            responsibility = np.array([self.calc_prob(data[data_i]) for data_i in range(data_size)])\n",
    "            responsibility = np.divide(responsibility, responsibility.sum(axis=1)[:, np.newaxis])\n",
    "\n",
    "            # m-step\n",
    "            responsibility_sum = responsibility.sum(axis=0)\n",
    "            self.alphas = responsibility_sum / data_size\n",
    "            self.means = (responsibility * data.values[:, np.newaxis]).sum(axis=0) / responsibility_sum\n",
    "            # 更新方差的估计值.\n",
    "            self.stds = np.sqrt((responsibility * np.square(data.values[:, np.newaxis] - self.means)).sum(axis=0) / responsibility_sum)\n",
    "\n",
    "            \n",
    "    def calc_prob(self, data_point):\n",
    "        probs = np.array([norm.pdf(data_point, loc=self.means[cluster_i], scale=self.stds[cluster_i]) for cluster_i in range(self.n_clusters)])\n",
    "        return probs\n",
    "\n",
    "    def predict_pdf(self, data_point):\n",
    "        probs = self.calc_prob(data_point)\n",
    "        return np.sum(probs * self.alphas)\n",
    "    \n",
    "    def predict_prob(self, data_point):\n",
    "        probs = self.calc_prob(data_point)\n",
    "        return np.divide(probs, probs.sum())"
   ]
  },
  {
   "cell_type": "code",
   "execution_count": 7,
   "metadata": {},
   "outputs": [
    {
     "data": {
      "text/plain": [
       "0    0.221076\n",
       "1   -1.960514\n",
       "2   -1.196659\n",
       "3    0.541954\n",
       "4   -1.431141\n",
       "dtype: float64"
      ]
     },
     "execution_count": 7,
     "metadata": {},
     "output_type": "execute_result"
    }
   ],
   "source": [
    "def gen_samples():\n",
    "    num_per_component = [2, 9, 9]\n",
    "    mean_per_component = [-2, 0, 2]\n",
    "    std_per_component = [1, 1, 1]\n",
    "    samples = []\n",
    "    for i in range(3):\n",
    "        samples.extend(norm(loc=mean_per_component[i], scale=std_per_component[i]).rvs(num_per_component[i]))\n",
    "    return pd.Series(samples)\n",
    "\n",
    "samples = gen_samples()\n",
    "samples.head()"
   ]
  },
  {
   "cell_type": "code",
   "execution_count": 8,
   "metadata": {},
   "outputs": [
    {
     "name": "stdout",
     "output_type": "stream",
     "text": [
      "-------------step: 0\n",
      "means: [-1.96051409  0.          1.        ] stds: [0.01 1.   1.  ] alphas: [0.1295831  0.01002037 0.86039653]\n",
      "log_likelihood: -36.90812134200699\n",
      "-------------step: 1\n",
      "means: [-1.96051409  0.08088072  1.63851552] stds: [7.87323923e-19 1.34010846e+00 1.05015604e+00] alphas: [0.04992071 0.37577885 0.57430044]\n",
      "log_likelihood: 4.1525319722027705\n",
      "-------------step: 2\n",
      "means: [-1.96051409  0.17720756  1.75029492] stds: [0.         1.37855869 0.92739349] alphas: [0.05       0.43941061 0.51058939]\n",
      "log_likelihood: nan\n",
      "-------------step: 3\n",
      "means: [nan nan nan] stds: [nan nan nan] alphas: [nan nan nan]\n",
      "log_likelihood: nan\n",
      "-------------step: 4\n",
      "means: [nan nan nan] stds: [nan nan nan] alphas: [nan nan nan]\n",
      "log_likelihood: nan\n"
     ]
    },
    {
     "name": "stderr",
     "output_type": "stream",
     "text": [
      "/home/nlp/anaconda3/lib/python3.6/site-packages/scipy/stats/_distn_infrastructure.py:1652: RuntimeWarning: divide by zero encountered in double_scalars\n",
      "  x = np.asarray((x - loc)/scale, dtype=dtyp)\n",
      "/home/nlp/anaconda3/lib/python3.6/site-packages/scipy/stats/_distn_infrastructure.py:1652: RuntimeWarning: invalid value encountered in double_scalars\n",
      "  x = np.asarray((x - loc)/scale, dtype=dtyp)\n"
     ]
    }
   ],
   "source": [
    "gmm_singularity = GMM_Singularity()\n",
    "gmm_singularity.fit(samples, num_epoches=5)\n",
    "\n",
    "# 使用 em 求解出来的数据的直方图\n",
    "data_assigns = [gmm_singularity.predict_prob(data_point=data_item).argmax() for data_item in data]\n",
    "# plot_clusters(data, data_assigns)"
   ]
  }
 ],
 "metadata": {
  "kernelspec": {
   "display_name": "Python 3",
   "language": "python",
   "name": "python3"
  },
  "language_info": {
   "codemirror_mode": {
    "name": "ipython",
    "version": 3
   },
   "file_extension": ".py",
   "mimetype": "text/x-python",
   "name": "python",
   "nbconvert_exporter": "python",
   "pygments_lexer": "ipython3",
   "version": "3.6.1"
  }
 },
 "nbformat": 4,
 "nbformat_minor": 2
}
