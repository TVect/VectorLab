{
 "cells": [
  {
   "cell_type": "markdown",
   "metadata": {},
   "source": [
    "这里会展示使用 EM Algorithm 求解 GMM 中参数, 其中假设 方差是已知的.\n",
    "\n",
    "- **GMM**\n",
    "\n",
    "    em"
   ]
  },
  {
   "cell_type": "code",
   "execution_count": 1,
   "metadata": {},
   "outputs": [],
   "source": [
    "%matplotlib inline\n",
    "import pandas as pd\n",
    "import numpy as np\n",
    "import matplotlib.pyplot as plt"
   ]
  },
  {
   "cell_type": "code",
   "execution_count": 2,
   "metadata": {},
   "outputs": [
    {
     "data": {
      "image/png": "[encoded data removed]",
      "text/plain": [
       "<matplotlib.figure.Figure at 0x7f958cd5d908>"
      ]
     },
     "metadata": {},
     "output_type": "display_data"
    }
   ],
   "source": [
    "# 原始数据\n",
    "data = pd.read_csv(\"./notes-on-dirichlet-processes/clusters.csv\", header=None, index_col=0)[1]\n",
    "data_labels = pd.read_csv(\"./notes-on-dirichlet-processes/cluster_labels.csv\", header=None, index_col=0)[1]\n",
    "\n",
    "_=data.hist(bins=20)"
   ]
  },
  {
   "cell_type": "code",
   "execution_count": 3,
   "metadata": {},
   "outputs": [
    {
     "data": {
      "image/png": "[encoded data removed]",
      "text/plain": [
       "<matplotlib.figure.Figure at 0x7f95bc4da390>"
      ]
     },
     "metadata": {},
     "output_type": "display_data"
    }
   ],
   "source": [
    "def plot_clusters(data_points, data_assigns):\n",
    "    gby = pd.DataFrame({\n",
    "            'data': data_points, \n",
    "            'assignment': data_assigns}\n",
    "        ).groupby(by='assignment')['data']\n",
    "    hist_data = [gby.get_group(cid).tolist() \n",
    "                 for cid in gby.groups.keys()]\n",
    "    plt.hist(hist_data, \n",
    "             bins=20,\n",
    "             histtype='stepfilled', alpha=.5 )\n",
    "\n",
    "# 真实的 cluster label下绘制的直方图\n",
    "plot_clusters(data, data_labels)"
   ]
  },
  {
   "cell_type": "markdown",
   "metadata": {},
   "source": [
    "### 使用 EM Algorithm 求解 GMM\n",
    "\n",
    "现假设方差已知 $\\sigma^2 = 0.01$\n",
    "\n",
    "观测到的数据为 $ x_1, x_2, ..., x_n $, 相应的隐含类别为 $ z_1, ..., z_n $.\n",
    "\n",
    "待估计的参数为 $\\theta = (\\alpha_1, ..., \\alpha_K, u_1, ..., u_K)$, 其中 $K$ 为 cluster 的数目.\n",
    "\n",
    "EM Algorithm 的迭代公式如下:\n",
    "\n",
    "- **E-step**:\n",
    "\n",
    "$$ p(z_i|x_i, \\theta^{old}) = \\frac{\\alpha_{z_{i}}N(x_{i}|u_{z_{i}}, \\sigma^2)}{\\sum_{l=1}^{k}\\alpha_{l}N(x_{i}|u_{l}, \\sigma^2) } $$\n",
    "\n",
    "- **M-step**:\n",
    "\n",
    "$$ \\alpha_{l} = \\frac {\\sum_{j=1}^{n} p(l | x_{j}, \\theta^{old})}{n} $$\n",
    "    \n",
    "$$ u_{l} = \\frac {\\sum_{j=1}^{n} p(l | x_{j}, \\theta^{old}) x_{j}} {\\sum_{j=1}^{n} p(l | x_{j}, \\theta^{old})} $$"
   ]
  },
  {
   "cell_type": "code",
   "execution_count": 4,
   "metadata": {},
   "outputs": [],
   "source": [
    "from scipy.stats import dirichlet, norm\n",
    "\n",
    "class GMM:\n",
    "    \n",
    "    def __init__(self, n_clusters=3, variance=0.01):\n",
    "        self.n_clusters = n_clusters\n",
    "        self.variance = variance\n",
    "        self.std = np.sqrt(self.variance)\n",
    "        \n",
    "        self.means = norm().rvs(n_clusters)\n",
    "        self.alphas = dirichlet([1] * n_clusters).rvs(1)[0]\n",
    "\n",
    "    def fit(self, data, num_epoches=100):\n",
    "        data_size = data.shape[0]\n",
    "        std = np.sqrt(self.variance)\n",
    "\n",
    "        responsibility = np.zeros_like([data_size, self.n_clusters])\n",
    "        for i_epoch in range(num_epoches):\n",
    "            # e-step\n",
    "            responsibility = np.array([self.calc_prob(data[data_i]) for data_i in range(data_size)])\n",
    "            responsibility = np.divide(responsibility, responsibility.sum(axis=1)[:, np.newaxis])\n",
    "\n",
    "            # m-step\n",
    "            responsibility_sum = responsibility.sum(axis=0)\n",
    "            self.alphas = responsibility_sum / data_size\n",
    "            self.means = (responsibility * data.values[:, np.newaxis]).sum(axis=0) / responsibility_sum        \n",
    "\n",
    "    def calc_prob(self, data_point):\n",
    "        probs = np.array([norm.pdf(data_point, loc=self.means[cluster_i], scale=self.std) for cluster_i in range(self.n_clusters)])\n",
    "        return probs\n",
    "\n",
    "    def predict_pdf(self, data_point):\n",
    "        probs = self.calc_prob(data_point)\n",
    "        return np.sum(probs * self.alphas)\n",
    "    \n",
    "    def predict_prob(self, data_point):\n",
    "        probs = self.calc_prob(data_point)\n",
    "        return np.divide(probs, probs.sum())"
   ]
  },
  {
   "cell_type": "code",
   "execution_count": 5,
   "metadata": {},
   "outputs": [
    {
     "data": {
      "image/png": "[encoded data removed]",
      "text/plain": [
       "<matplotlib.figure.Figure at 0x7f958a924780>"
      ]
     },
     "metadata": {},
     "output_type": "display_data"
    }
   ],
   "source": [
    "gmm = GMM()\n",
    "gmm.fit(data)\n",
    "\n",
    "# 使用 em 求解出来的数据的直方图\n",
    "data_assigns = [gmm.predict_prob(data_point=data_item).argmax() for data_item in data]\n",
    "plot_clusters(data, data_assigns)"
   ]
  }
 ],
 "metadata": {
  "kernelspec": {
   "display_name": "Python 3",
   "language": "python",
   "name": "python3"
  },
  "language_info": {
   "codemirror_mode": {
    "name": "ipython",
    "version": 3
   },
   "file_extension": ".py",
   "mimetype": "text/x-python",
   "name": "python",
   "nbconvert_exporter": "python",
   "pygments_lexer": "ipython3",
   "version": "3.6.1"
  }
 },
 "nbformat": 4,
 "nbformat_minor": 2
}
