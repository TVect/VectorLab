{
 "cells": [
  {
   "cell_type": "code",
   "execution_count": 1,
   "metadata": {
    "collapsed": true
   },
   "outputs": [],
   "source": [
    "import numpy as np\n",
    "import matplotlib.pyplot as plt"
   ]
  },
  {
   "cell_type": "code",
   "execution_count": 2,
   "metadata": {
    "collapsed": true
   },
   "outputs": [],
   "source": [
    "x_data = [338, 333, 328, 207, 226, 25, 179, 60, 208, 606]\n",
    "y_data = [640, 633, 619, 393, 428, 27, 193, 66, 226, 1591]"
   ]
  },
  {
   "cell_type": "code",
   "execution_count": 3,
   "metadata": {
    "collapsed": true
   },
   "outputs": [],
   "source": [
    "# 用于绘制 平方损失 的等值线\n",
    "x = np.arange(-200, -100, 1)    # bias\n",
    "y = np.arange(-5, 5, 0.1)       # weight\n",
    "Z = np.zeros((len(x), len(y)))\n",
    "X, Y = np.meshgrid(x, y)\n",
    "\n",
    "for i in range(len(x)):\n",
    "    for j in range(len(y)):\n",
    "        b = x[i]\n",
    "        w = y[j]\n",
    "        Z[j][i] = 0\n",
    "        for n in range(len(x_data)):\n",
    "            Z[j][i] += (y_data[n] - b - w * x_data[n])**2\n",
    "        Z[j][i] /= len(x_data)\n"
   ]
  },
  {
   "cell_type": "code",
   "execution_count": 4,
   "metadata": {},
   "outputs": [
    {
     "data": {
      "text/plain": [
       "(2.6694549667622574, -188.43319665732656)"
      ]
     },
     "execution_count": 4,
     "metadata": {},
     "output_type": "execute_result"
    }
   ],
   "source": [
    "# 最小二乘解\n",
    "w_best = ((np.array(x_data)*np.array(y_data)).mean() - np.array(x_data).mean() * np.array(y_data).mean()) / (np.square(x_data).mean() - np.square(np.array(x_data).mean()))\n",
    "\n",
    "b_best = np.array(y_data).mean() - np.array(x_data).mean() * w_best\n",
    "\n",
    "w_best, b_best"
   ]
  },
  {
   "cell_type": "code",
   "execution_count": 5,
   "metadata": {},
   "outputs": [
    {
     "data": {
      "image/png": "[encoded data removed]",
      "text/plain": [
       "<matplotlib.figure.Figure at 0x7fdf19fa4f98>"
      ]
     },
     "metadata": {},
     "output_type": "display_data"
    }
   ],
   "source": [
    "# ydata = b + w * xdata\n",
    "b = -120    # initial b\n",
    "w = -4      # initial w\n",
    "lr = 1e-6   # learning rate\n",
    "lr = 1\n",
    "iteration = 100000\n",
    "\n",
    "# store initial values for plotting\n",
    "b_history = [b]\n",
    "w_history = [w]\n",
    "\n",
    "lr_b = 0\n",
    "lr_w = 0\n",
    "\n",
    "# iterater\n",
    "for i in range(iteration):\n",
    "    b_grad = 0.0\n",
    "    w_grad = 0.0\n",
    "    # calculate gradient\n",
    "    for n in range(len(x_data)):\n",
    "        b_grad = b_grad - 2.0 * (y_data[n] - b - w * x_data[n])\n",
    "        w_grad = w_grad - 2.0 * (y_data[n] - b - w * x_data[n]) * x_data[n]\n",
    "    \n",
    "    # Adagrad vs GradientDescent\n",
    "    lr_b = lr_b + b_grad ** 2\n",
    "    lr_w = lr_w + w_grad ** 2\n",
    "    \n",
    "    # update patameters\n",
    "    b = b - lr / np.sqrt(lr_b) * b_grad\n",
    "    w = w - lr / np.sqrt(lr_w) * w_grad\n",
    "\n",
    "    # store paramaters for plotting\n",
    "    b_history.append(b)\n",
    "    w_history.append(w)\n",
    "\n",
    "# plot the figure\n",
    "plt.contourf(x, y, Z, 50, alpha=0.5, cmap=plt.get_cmap('jet'))\n",
    "plt.plot([-188.4], [2.67], 'X', ms=12, markeredgewidth=3, color='black')\n",
    "plt.plot(b_history, w_history, 'o', ms=3, lw=1.5, color='black')\n",
    "plt.xlim(-200, -100)\n",
    "plt.ylim(-5, 5)\n",
    "plt.xlabel(r'$b$', fontsize=16)\n",
    "plt.ylabel(r'$w$', fontsize=16)\n",
    "plt.show()"
   ]
  }
 ],
 "metadata": {
  "kernelspec": {
   "display_name": "Python 3",
   "language": "python",
   "name": "python3"
  },
  "language_info": {
   "codemirror_mode": {
    "name": "ipython",
    "version": 3
   },
   "file_extension": ".py",
   "mimetype": "text/x-python",
   "name": "python",
   "nbconvert_exporter": "python",
   "pygments_lexer": "ipython3",
   "version": "3.6.1"
  }
 },
 "nbformat": 4,
 "nbformat_minor": 2
}
