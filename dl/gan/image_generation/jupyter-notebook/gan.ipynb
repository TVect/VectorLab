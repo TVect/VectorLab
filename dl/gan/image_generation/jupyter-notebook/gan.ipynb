{
 "cells": [
  {
   "cell_type": "code",
   "execution_count": 1,
   "metadata": {},
   "outputs": [
    {
     "name": "stderr",
     "output_type": "stream",
     "text": [
      "/home/nlp/anaconda3/lib/python3.6/site-packages/h5py/__init__.py:36: FutureWarning: Conversion of the second argument of issubdtype from `float` to `np.floating` is deprecated. In future, it will be treated as `np.float64 == np.dtype(float).type`.\n",
      "  from ._conv import register_converters as _register_converters\n"
     ]
    }
   ],
   "source": [
    "import math\n",
    "import numpy as np\n",
    "import tensorflow as tf\n",
    "\n",
    "import os\n",
    "import cv2\n",
    "\n",
    "import matplotlib.pyplot as plt\n",
    "%matplotlib inline"
   ]
  },
  {
   "cell_type": "code",
   "execution_count": 2,
   "metadata": {
    "collapsed": true
   },
   "outputs": [],
   "source": [
    "'''\n",
    "Generator\n",
    "- input: noises (batch_size, noise_dim)\n",
    "- output: images (batch_size, height, width, channels)\n",
    "- arthitecture: CNN, DNN\n",
    "- use deconvolution (transpose convolution) layer in CNN\n",
    "'''\n",
    "\n",
    "\n",
    "class Generator:\n",
    "    \n",
    "    def __init__(self):\n",
    "        self._build()\n",
    "    \n",
    "    \n",
    "    def _build(self):\n",
    "        self.output_height = 64\n",
    "        self.output_width = 64\n",
    "        self.noise_dim = 100\n",
    "        self.noise_placeholder = tf.placeholder(dtype=tf.float32, \n",
    "                                                shape=[10, self.noise_dim], \n",
    "                                                name=\"noise_placeholder\")\n",
    "        # 64*64 <- 32 * 32 <- 16*16 <- 8*8 <- 4*4\n",
    "        s_h, s_w = self.output_height, self.output_width\n",
    "        s_h2, s_w2 = int(math.ceil(s_h/2)), int(math.ceil(s_w/2))\n",
    "        s_h4, s_w4 = int(math.ceil(s_h2/2)), int(math.ceil(s_w2/2))\n",
    "        s_h8, s_w8 = int(math.ceil(s_h4/2)), int(math.ceil(s_w4/2))\n",
    "        s_h16, s_w16 = int(math.ceil(s_h8/2)), int(math.ceil(s_w8/2))\n",
    "\n",
    "        output0_ = tf.layers.dense(inputs=self.noise_placeholder, \n",
    "                             units=64 * s_h16 * s_w16,\n",
    "                             activation=tf.nn.relu,\n",
    "                             kernel_initializer=tf.contrib.layers.xavier_initializer(),\n",
    "                             name=\"dense0\")\n",
    "        output0 = tf.reshape(output0_, [-1, s_h16, s_w16, 64])\n",
    "        \n",
    "        output1_ = tf.nn.conv2d_transpose(output0, \n",
    "                                          filter=tf.get_variable('filter1', [5, 5, 32, 64],\n",
    "                                                                 initializer=tf.contrib.layers.xavier_initializer()),\n",
    "                                          output_shape=[10, s_h8, s_w8, 32], \n",
    "                                          strides=[1,2,2,1], \n",
    "                                          name=\"deconv1\")\n",
    "        output1 = tf.nn.relu(output1_)\n",
    "\n",
    "        output2_ = tf.nn.conv2d_transpose(output1, \n",
    "                                          filter=tf.get_variable('filter2', [5, 5, 16, 32],\n",
    "                                                                 initializer=tf.contrib.layers.xavier_initializer()),                                         \n",
    "                                          output_shape=[10, s_h4, s_w4, 16], \n",
    "                                          strides=[1,2,2,1], \n",
    "                                          name=\"deconv2\")\n",
    "        output2 = tf.nn.relu(output2_)\n",
    "\n",
    "        output3_ = tf.nn.conv2d_transpose(output2, \n",
    "                                          filter=tf.get_variable('filter3', [5, 5, 8, 16],\n",
    "                                                                 initializer=tf.contrib.layers.xavier_initializer()),\n",
    "                                          output_shape=[10, s_h2, s_w2, 8], \n",
    "                                          strides=[1,2,2,1], \n",
    "                                          name=\"deconv3\")\n",
    "        output3 = tf.nn.relu(output3_)\n",
    "\n",
    "        output4_ = tf.nn.conv2d_transpose(output3, \n",
    "                                          filter=tf.get_variable('filter4', [5, 5, 3, 8],\n",
    "                                                                 initializer=tf.contrib.layers.xavier_initializer()),\n",
    "                                          output_shape=[10, s_h, s_w, 3], \n",
    "                                          strides=[1,2,2,1], \n",
    "                                          name=\"deconv4\")\n",
    "        self.batch_img = tf.nn.sigmoid(output4_)\n",
    "\n",
    "    \n",
    "    def generate_image(self, batch_noise):\n",
    "        with tf.Session() as sess:\n",
    "            sess.run(tf.global_variables_initializer())\n",
    "\n",
    "            imgs = sess.run(self.batch_img, feed_dict={self.noise_placeholder: batch_noise})\n",
    "            return imgs\n",
    "\n",
    "\n",
    "generator = Generator()\n",
    "batch_noise = np.random.random([10, 100])\n",
    "imgs = generator.generate_image(batch_noise)"
   ]
  },
  {
   "cell_type": "code",
   "execution_count": 3,
   "metadata": {},
   "outputs": [
    {
     "data": {
      "text/plain": [
       "<matplotlib.image.AxesImage at 0x7fd973f91a20>"
      ]
     },
     "execution_count": 3,
     "metadata": {},
     "output_type": "execute_result"
    },
    {
     "data": {
      "image/png": "[encoded data removed]",
      "text/plain": [
       "<matplotlib.figure.Figure at 0x7fd9a9a636a0>"
      ]
     },
     "metadata": {},
     "output_type": "display_data"
    }
   ],
   "source": [
    "plt.imshow(imgs[0])"
   ]
  },
  {
   "cell_type": "code",
   "execution_count": 17,
   "metadata": {},
   "outputs": [
    {
     "ename": "TypeError",
     "evalue": "Image data can not convert to float",
     "output_type": "error",
     "traceback": [
      "\u001b[0;31m---------------------------------------------------------------------------\u001b[0m",
      "\u001b[0;31mTypeError\u001b[0m                                 Traceback (most recent call last)",
      "\u001b[0;32m<ipython-input-17-539a05ce4593>\u001b[0m in \u001b[0;36m<module>\u001b[0;34m()\u001b[0m\n\u001b[1;32m      3\u001b[0m \u001b[0;31m# img = cv2.resize(img, (64, 64))\u001b[0m\u001b[0;34m\u001b[0m\u001b[0;34m\u001b[0m\u001b[0m\n\u001b[1;32m      4\u001b[0m \u001b[0mimg\u001b[0m \u001b[0;34m=\u001b[0m \u001b[0mimg\u001b[0m\u001b[0;34m.\u001b[0m\u001b[0mresize\u001b[0m\u001b[0;34m(\u001b[0m\u001b[0;34m(\u001b[0m\u001b[0;36m64\u001b[0m\u001b[0;34m,\u001b[0m \u001b[0;36m64\u001b[0m\u001b[0;34m)\u001b[0m\u001b[0;34m)\u001b[0m\u001b[0;34m\u001b[0m\u001b[0m\n\u001b[0;32m----> 5\u001b[0;31m \u001b[0mplt\u001b[0m\u001b[0;34m.\u001b[0m\u001b[0mimshow\u001b[0m\u001b[0;34m(\u001b[0m\u001b[0mimg\u001b[0m\u001b[0;34m)\u001b[0m\u001b[0;34m\u001b[0m\u001b[0m\n\u001b[0m",
      "\u001b[0;32m/home/nlp/anaconda3/lib/python3.6/site-packages/matplotlib/pyplot.py\u001b[0m in \u001b[0;36mimshow\u001b[0;34m(X, cmap, norm, aspect, interpolation, alpha, vmin, vmax, origin, extent, shape, filternorm, filterrad, imlim, resample, url, hold, data, **kwargs)\u001b[0m\n\u001b[1;32m   3155\u001b[0m                         \u001b[0mfilternorm\u001b[0m\u001b[0;34m=\u001b[0m\u001b[0mfilternorm\u001b[0m\u001b[0;34m,\u001b[0m \u001b[0mfilterrad\u001b[0m\u001b[0;34m=\u001b[0m\u001b[0mfilterrad\u001b[0m\u001b[0;34m,\u001b[0m\u001b[0;34m\u001b[0m\u001b[0m\n\u001b[1;32m   3156\u001b[0m                         \u001b[0mimlim\u001b[0m\u001b[0;34m=\u001b[0m\u001b[0mimlim\u001b[0m\u001b[0;34m,\u001b[0m \u001b[0mresample\u001b[0m\u001b[0;34m=\u001b[0m\u001b[0mresample\u001b[0m\u001b[0;34m,\u001b[0m \u001b[0murl\u001b[0m\u001b[0;34m=\u001b[0m\u001b[0murl\u001b[0m\u001b[0;34m,\u001b[0m \u001b[0mdata\u001b[0m\u001b[0;34m=\u001b[0m\u001b[0mdata\u001b[0m\u001b[0;34m,\u001b[0m\u001b[0;34m\u001b[0m\u001b[0m\n\u001b[0;32m-> 3157\u001b[0;31m                         **kwargs)\n\u001b[0m\u001b[1;32m   3158\u001b[0m     \u001b[0;32mfinally\u001b[0m\u001b[0;34m:\u001b[0m\u001b[0;34m\u001b[0m\u001b[0m\n\u001b[1;32m   3159\u001b[0m         \u001b[0max\u001b[0m\u001b[0;34m.\u001b[0m\u001b[0m_hold\u001b[0m \u001b[0;34m=\u001b[0m \u001b[0mwashold\u001b[0m\u001b[0;34m\u001b[0m\u001b[0m\n",
      "\u001b[0;32m/home/nlp/anaconda3/lib/python3.6/site-packages/matplotlib/__init__.py\u001b[0m in \u001b[0;36minner\u001b[0;34m(ax, *args, **kwargs)\u001b[0m\n\u001b[1;32m   1896\u001b[0m                     warnings.warn(msg % (label_namer, func.__name__),\n\u001b[1;32m   1897\u001b[0m                                   RuntimeWarning, stacklevel=2)\n\u001b[0;32m-> 1898\u001b[0;31m             \u001b[0;32mreturn\u001b[0m \u001b[0mfunc\u001b[0m\u001b[0;34m(\u001b[0m\u001b[0max\u001b[0m\u001b[0;34m,\u001b[0m \u001b[0;34m*\u001b[0m\u001b[0margs\u001b[0m\u001b[0;34m,\u001b[0m \u001b[0;34m**\u001b[0m\u001b[0mkwargs\u001b[0m\u001b[0;34m)\u001b[0m\u001b[0;34m\u001b[0m\u001b[0m\n\u001b[0m\u001b[1;32m   1899\u001b[0m         \u001b[0mpre_doc\u001b[0m \u001b[0;34m=\u001b[0m \u001b[0minner\u001b[0m\u001b[0;34m.\u001b[0m\u001b[0m__doc__\u001b[0m\u001b[0;34m\u001b[0m\u001b[0m\n\u001b[1;32m   1900\u001b[0m         \u001b[0;32mif\u001b[0m \u001b[0mpre_doc\u001b[0m \u001b[0;32mis\u001b[0m \u001b[0;32mNone\u001b[0m\u001b[0;34m:\u001b[0m\u001b[0;34m\u001b[0m\u001b[0m\n",
      "\u001b[0;32m/home/nlp/anaconda3/lib/python3.6/site-packages/matplotlib/axes/_axes.py\u001b[0m in \u001b[0;36mimshow\u001b[0;34m(self, X, cmap, norm, aspect, interpolation, alpha, vmin, vmax, origin, extent, shape, filternorm, filterrad, imlim, resample, url, **kwargs)\u001b[0m\n\u001b[1;32m   5122\u001b[0m                               resample=resample, **kwargs)\n\u001b[1;32m   5123\u001b[0m \u001b[0;34m\u001b[0m\u001b[0m\n\u001b[0;32m-> 5124\u001b[0;31m         \u001b[0mim\u001b[0m\u001b[0;34m.\u001b[0m\u001b[0mset_data\u001b[0m\u001b[0;34m(\u001b[0m\u001b[0mX\u001b[0m\u001b[0;34m)\u001b[0m\u001b[0;34m\u001b[0m\u001b[0m\n\u001b[0m\u001b[1;32m   5125\u001b[0m         \u001b[0mim\u001b[0m\u001b[0;34m.\u001b[0m\u001b[0mset_alpha\u001b[0m\u001b[0;34m(\u001b[0m\u001b[0malpha\u001b[0m\u001b[0;34m)\u001b[0m\u001b[0;34m\u001b[0m\u001b[0m\n\u001b[1;32m   5126\u001b[0m         \u001b[0;32mif\u001b[0m \u001b[0mim\u001b[0m\u001b[0;34m.\u001b[0m\u001b[0mget_clip_path\u001b[0m\u001b[0;34m(\u001b[0m\u001b[0;34m)\u001b[0m \u001b[0;32mis\u001b[0m \u001b[0;32mNone\u001b[0m\u001b[0;34m:\u001b[0m\u001b[0;34m\u001b[0m\u001b[0m\n",
      "\u001b[0;32m/home/nlp/anaconda3/lib/python3.6/site-packages/matplotlib/image.py\u001b[0m in \u001b[0;36mset_data\u001b[0;34m(self, A)\u001b[0m\n\u001b[1;32m    594\u001b[0m         if (self._A.dtype != np.uint8 and\n\u001b[1;32m    595\u001b[0m                 not np.can_cast(self._A.dtype, np.float)):\n\u001b[0;32m--> 596\u001b[0;31m             \u001b[0;32mraise\u001b[0m \u001b[0mTypeError\u001b[0m\u001b[0;34m(\u001b[0m\u001b[0;34m\"Image data can not convert to float\"\u001b[0m\u001b[0;34m)\u001b[0m\u001b[0;34m\u001b[0m\u001b[0m\n\u001b[0m\u001b[1;32m    597\u001b[0m \u001b[0;34m\u001b[0m\u001b[0m\n\u001b[1;32m    598\u001b[0m         if (self._A.ndim not in (2, 3) or\n",
      "\u001b[0;31mTypeError\u001b[0m: Image data can not convert to float"
     ]
    },
    {
     "data": {
      "image/png": "[encoded data removed]",
      "text/plain": [
       "<matplotlib.figure.Figure at 0x7fd970b58978>"
      ]
     },
     "metadata": {},
     "output_type": "display_data"
    }
   ],
   "source": [
    "img = cv2.imread(\"../AnimeData_NTU/AnimeData/faces/1.jpg\", cv2.IMREAD_COLOR)\n",
    "img = cv2.cvtColor(img, cv2.COLOR_BGR2RGB)\n",
    "# img = cv2.resize(img, (64, 64))\n",
    "img = img.resize((64, 64))\n",
    "plt.imshow(img)"
   ]
  },
  {
   "cell_type": "code",
   "execution_count": 12,
   "metadata": {},
   "outputs": [
    {
     "data": {
      "text/plain": [
       "array([[[209,  94,  65],\n",
       "        [209,  91,  63],\n",
       "        [208,  84,  56],\n",
       "        ...,\n",
       "        [243, 121,  97],\n",
       "        [228, 103,  81],\n",
       "        [216,  91,  69]],\n",
       "\n",
       "       [[207,  89,  61],\n",
       "        [204,  84,  57],\n",
       "        [202,  78,  52],\n",
       "        ...,\n",
       "        [242, 118,  94],\n",
       "        [228, 103,  81],\n",
       "        [218,  93,  71]],\n",
       "\n",
       "       [[203,  83,  58],\n",
       "        [198,  77,  50],\n",
       "        [194,  68,  43],\n",
       "        ...,\n",
       "        [240, 114,  92],\n",
       "        [227, 100,  81],\n",
       "        [220,  93,  74]],\n",
       "\n",
       "       ...,\n",
       "\n",
       "       [[252, 255, 255],\n",
       "        [251, 255, 255],\n",
       "        [251, 255, 255],\n",
       "        ...,\n",
       "        [ 63,  69, 131],\n",
       "        [ 65,  72, 142],\n",
       "        [ 66,  72, 146]],\n",
       "\n",
       "       [[251, 255, 255],\n",
       "        [251, 255, 255],\n",
       "        [252, 255, 255],\n",
       "        ...,\n",
       "        [ 61,  66, 134],\n",
       "        [ 66,  72, 148],\n",
       "        [ 68,  73, 154]],\n",
       "\n",
       "       [[249, 253, 254],\n",
       "        [250, 254, 255],\n",
       "        [251, 255, 255],\n",
       "        ...,\n",
       "        [ 57,  61, 132],\n",
       "        [ 62,  68, 146],\n",
       "        [ 68,  73, 155]]], dtype=uint8)"
      ]
     },
     "execution_count": 12,
     "metadata": {},
     "output_type": "execute_result"
    }
   ],
   "source": [
    "img.reshape"
   ]
  },
  {
   "cell_type": "code",
   "execution_count": 27,
   "metadata": {},
   "outputs": [
    {
     "data": {
      "text/plain": [
       "array([[[0.50002635, 0.5000157 , 0.49995995],\n",
       "        [0.4999708 , 0.5000058 , 0.5001252 ],\n",
       "        [0.50009227, 0.5000196 , 0.49993086],\n",
       "        ...,\n",
       "        [0.5000068 , 0.5000332 , 0.50027126],\n",
       "        [0.50018704, 0.4999622 , 0.49967018],\n",
       "        [0.5001003 , 0.5002297 , 0.5002614 ]],\n",
       "\n",
       "       [[0.49996054, 0.50004697, 0.5000998 ],\n",
       "        [0.50020385, 0.5001325 , 0.5000993 ],\n",
       "        [0.5000724 , 0.4999096 , 0.4998181 ],\n",
       "        ...,\n",
       "        [0.50072354, 0.50079244, 0.5008703 ],\n",
       "        [0.5004035 , 0.49975288, 0.49995923],\n",
       "        [0.50031507, 0.50040567, 0.5002029 ]],\n",
       "\n",
       "       [[0.5001274 , 0.50002474, 0.5000805 ],\n",
       "        [0.5000033 , 0.4997922 , 0.5002372 ],\n",
       "        [0.49984497, 0.50017   , 0.4999342 ],\n",
       "        ...,\n",
       "        [0.49991348, 0.49977598, 0.5008166 ],\n",
       "        [0.5002579 , 0.5002266 , 0.50005084],\n",
       "        [0.50013554, 0.5000696 , 0.5001539 ]],\n",
       "\n",
       "       ...,\n",
       "\n",
       "       [[0.500215  , 0.50001484, 0.50010407],\n",
       "        [0.50027657, 0.50022125, 0.4997817 ],\n",
       "        [0.5001887 , 0.4996002 , 0.50051   ],\n",
       "        ...,\n",
       "        [0.50138795, 0.49996305, 0.50110394],\n",
       "        [0.50096536, 0.49898237, 0.4995881 ],\n",
       "        [0.5000546 , 0.5000647 , 0.50030464]],\n",
       "\n",
       "       [[0.5000714 , 0.5001302 , 0.50013924],\n",
       "        [0.50005233, 0.5004585 , 0.4996475 ],\n",
       "        [0.49995893, 0.500128  , 0.5002622 ],\n",
       "        ...,\n",
       "        [0.49932963, 0.49908128, 0.5009398 ],\n",
       "        [0.5002222 , 0.50108546, 0.4997108 ],\n",
       "        [0.49862477, 0.50070596, 0.49971613]],\n",
       "\n",
       "       [[0.5001669 , 0.5001979 , 0.49999595],\n",
       "        [0.4995639 , 0.49978003, 0.50020146],\n",
       "        [0.50085455, 0.49985614, 0.49994916],\n",
       "        ...,\n",
       "        [0.4995962 , 0.49917874, 0.4998906 ],\n",
       "        [0.50043243, 0.4995801 , 0.49952862],\n",
       "        [0.49984914, 0.50003445, 0.5005537 ]]], dtype=float32)"
      ]
     },
     "execution_count": 27,
     "metadata": {},
     "output_type": "execute_result"
    }
   ],
   "source": [
    "imgs[3]"
   ]
  }
 ],
 "metadata": {
  "kernelspec": {
   "display_name": "Python 3",
   "language": "python",
   "name": "python3"
  },
  "language_info": {
   "codemirror_mode": {
    "name": "ipython",
    "version": 3
   },
   "file_extension": ".py",
   "mimetype": "text/x-python",
   "name": "python",
   "nbconvert_exporter": "python",
   "pygments_lexer": "ipython3",
   "version": "3.6.1"
  }
 },
 "nbformat": 4,
 "nbformat_minor": 2
}
