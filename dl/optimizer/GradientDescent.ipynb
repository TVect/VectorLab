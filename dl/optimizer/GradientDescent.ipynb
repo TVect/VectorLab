{
 "cells": [
  {
   "cell_type": "markdown",
   "metadata": {},
   "source": [
    "# Adagrad 与 普通的Gradient Descent 以及 scale 效果展示"
   ]
  },
  {
   "cell_type": "markdown",
   "metadata": {},
   "source": [
    "### 下面使用最简单的单变量回归演示普通的GD和Adagrad\n",
    "\n",
    "在单变量回归的情况下，平方损失函数为凸函数，有最优解。最优解可以通过最小二乘法求得。"
   ]
  },
  {
   "cell_type": "code",
   "execution_count": 1,
   "metadata": {
    "collapsed": true
   },
   "outputs": [],
   "source": [
    "import numpy as np\n",
    "import matplotlib.pyplot as plt"
   ]
  },
  {
   "cell_type": "code",
   "execution_count": 2,
   "metadata": {},
   "outputs": [
    {
     "data": {
      "text/plain": [
       "(2.6694549667622574, -188.43319665732656)"
      ]
     },
     "execution_count": 2,
     "metadata": {},
     "output_type": "execute_result"
    }
   ],
   "source": [
    "x_data = np.array([338, 333, 328, 207, 226, 25, 179, 60, 208, 606])\n",
    "y_data = np.array([640, 633, 619, 393, 428, 27, 193, 66, 226, 1591])\n",
    "\n",
    "# 最小二乘解\n",
    "w_best = ((x_data*y_data).mean() - x_data.mean() * y_data.mean()) / (np.square(x_data).mean() - np.square(x_data.mean()))\n",
    "b_best = y_data.mean() - x_data.mean() * w_best\n",
    "w_best, b_best"
   ]
  },
  {
   "cell_type": "code",
   "execution_count": 3,
   "metadata": {},
   "outputs": [],
   "source": [
    "# 用于绘制 平方损失 的等值线\n",
    "x = np.arange(-200, -100, 1)    # bias\n",
    "y = np.arange(-5, 5, 0.1)       # weight\n",
    "Z = np.zeros((len(x), len(y)))\n",
    "X, Y = np.meshgrid(x, y)\n",
    "\n",
    "for i in range(len(x)):\n",
    "    for j in range(len(y)):\n",
    "        b = x[i]\n",
    "        w = y[j]\n",
    "        Z[j][i] = 0\n",
    "        for n in range(len(x_data)):\n",
    "            Z[j][i] += (y_data[n] - b - w * x_data[n])**2\n",
    "        Z[j][i] /= len(x_data)\n"
   ]
  },
  {
   "cell_type": "markdown",
   "metadata": {},
   "source": [
    "### 使用普通的梯度下降算法, 结果对于这种凸函数也不容易找到最优解"
   ]
  },
  {
   "cell_type": "code",
   "execution_count": 4,
   "metadata": {},
   "outputs": [
    {
     "data": {
      "image/png": "[encoded data removed]",
      "text/plain": [
       "<matplotlib.figure.Figure at 0x7f0098906fd0>"
      ]
     },
     "metadata": {},
     "output_type": "display_data"
    }
   ],
   "source": [
    "# 普通的梯度下降算法\n",
    "\n",
    "b = -120    # initial b\n",
    "w = -4      # initial w\n",
    "lr = 1e-6   # learning rate\n",
    "iteration = 100000\n",
    "\n",
    "# store initial values for plotting\n",
    "b_history = [b]\n",
    "w_history = [w]\n",
    "\n",
    "# iterater\n",
    "for i in range(iteration):\n",
    "    b_grad = 0.0\n",
    "    w_grad = 0.0\n",
    "    # calculate gradient\n",
    "    for n in range(len(x_data)):\n",
    "        b_grad = b_grad - 2.0 * (y_data[n] - b - w * x_data[n])\n",
    "        w_grad = w_grad - 2.0 * (y_data[n] - b - w * x_data[n]) * x_data[n]\n",
    "\n",
    "    # update patameters\n",
    "    b = b - lr * b_grad\n",
    "    w = w - lr * w_grad\n",
    "\n",
    "    # store paramaters for plotting\n",
    "    b_history.append(b)\n",
    "    w_history.append(w)\n",
    "\n",
    "# plot the figure\n",
    "plt.contourf(x, y, Z, 50, alpha=0.5, cmap=plt.get_cmap('jet'))\n",
    "plt.plot([b_best], [w_best], 'X', ms=12, markeredgewidth=3, color='black')\n",
    "plt.plot(b_history, w_history, 'o', ms=3, lw=1.5, color='black')\n",
    "plt.xlim(-200, -100)\n",
    "plt.ylim(-5, 5)\n",
    "plt.xlabel(r'$b$', fontsize=16)\n",
    "plt.ylabel(r'$w$', fontsize=16)\n",
    "plt.show()"
   ]
  },
  {
   "cell_type": "markdown",
   "metadata": {},
   "source": [
    "### 改为能够自适应梯度的 Adagrad，与上面对比，可以比较好的找到最优解"
   ]
  },
  {
   "cell_type": "code",
   "execution_count": 5,
   "metadata": {},
   "outputs": [
    {
     "data": {
      "image/png": "[encoded data removed]",
      "text/plain": [
       "<matplotlib.figure.Figure at 0x7f007206add8>"
      ]
     },
     "metadata": {},
     "output_type": "display_data"
    }
   ],
   "source": [
    "# 使用 Adagrad \n",
    "# ydata = b + w * xdata\n",
    "b = -120    # initial b\n",
    "w = -4      # initial w\n",
    "lr = 1e-6   # learning rate\n",
    "lr = 1\n",
    "iteration = 100000\n",
    "\n",
    "# store initial values for plotting\n",
    "b_history = [b]\n",
    "w_history = [w]\n",
    "\n",
    "lr_b = 0\n",
    "lr_w = 0\n",
    "\n",
    "# iterater\n",
    "for i in range(iteration):\n",
    "    b_grad = 0.0\n",
    "    w_grad = 0.0\n",
    "    # calculate gradient\n",
    "    for n in range(len(x_data)):\n",
    "        b_grad = b_grad - 2.0 * (y_data[n] - b - w * x_data[n])\n",
    "        w_grad = w_grad - 2.0 * (y_data[n] - b - w * x_data[n]) * x_data[n]\n",
    "    \n",
    "    # Adagrad vs GradientDescent\n",
    "    lr_b = lr_b + b_grad ** 2\n",
    "    lr_w = lr_w + w_grad ** 2\n",
    "    \n",
    "    # update patameters\n",
    "    b = b - lr / np.sqrt(lr_b) * b_grad\n",
    "    w = w - lr / np.sqrt(lr_w) * w_grad\n",
    "\n",
    "    # store paramaters for plotting\n",
    "    b_history.append(b)\n",
    "    w_history.append(w)\n",
    "\n",
    "# plot the figure\n",
    "plt.contourf(x, y, Z, 50, alpha=0.5, cmap=plt.get_cmap('jet'))\n",
    "plt.plot([-188.4], [2.67], 'X', ms=12, markeredgewidth=3, color='black')\n",
    "plt.plot(b_history, w_history, 'o', ms=3, lw=1.5, color='black')\n",
    "plt.xlim(-200, -100)\n",
    "plt.ylim(-5, 5)\n",
    "plt.xlabel(r'$b$', fontsize=16)\n",
    "plt.ylabel(r'$w$', fontsize=16)\n",
    "plt.show()"
   ]
  },
  {
   "cell_type": "markdown",
   "metadata": {},
   "source": [
    "### 尝试对变量做Scale到均值0，标准差1，之后再使用普通的梯度下降算法"
   ]
  },
  {
   "cell_type": "code",
   "execution_count": 6,
   "metadata": {},
   "outputs": [
    {
     "data": {
      "text/plain": [
       "(416.467486138367, 481.6)"
      ]
     },
     "execution_count": 6,
     "metadata": {},
     "output_type": "execute_result"
    }
   ],
   "source": [
    "x_data = (np.array(x_data) - np.array(x_data).mean()) / np.std(x_data)\n",
    "# y_data = (np.array(y_data) - np.array(y_data).mean()) / np.std(y_data)\n",
    "\n",
    "# 最小二乘解\n",
    "w_best = ((x_data*y_data).mean() - x_data.mean() * y_data.mean()) / (np.square(x_data).mean() - np.square(x_data.mean()))\n",
    "b_best = y_data.mean() - x_data.mean() * w_best\n",
    "w_best, b_best"
   ]
  },
  {
   "cell_type": "code",
   "execution_count": 7,
   "metadata": {
    "collapsed": true
   },
   "outputs": [],
   "source": [
    "# 用于绘制 平方损失 的等值线\n",
    "x = np.arange(400, 500, 1)    # bias\n",
    "y = np.arange(400, 500, 1)       # weight\n",
    "Z = np.zeros((len(x), len(y)))\n",
    "X, Y = np.meshgrid(x, y)\n",
    "\n",
    "for i in range(len(x)):\n",
    "    for j in range(len(y)):\n",
    "        b = x[i]\n",
    "        w = y[j]\n",
    "        Z[j][i] = 0\n",
    "        for n in range(len(x_data)):\n",
    "            Z[j][i] += (y_data[n] - b - w * x_data[n])**2\n",
    "        Z[j][i] /= len(x_data)\n"
   ]
  },
  {
   "cell_type": "markdown",
   "metadata": {},
   "source": [
    "### 做变换之后，w和b的等值线很类似于正圆，每一步的梯度下降，都会近似往最优点方向走。与之前单独使用GD相比，现在使用GD效果更好"
   ]
  },
  {
   "cell_type": "code",
   "execution_count": 8,
   "metadata": {},
   "outputs": [
    {
     "data": {
      "image/png": "[encoded data removed]",
      "text/plain": [
       "<matplotlib.figure.Figure at 0x7f008028d780>"
      ]
     },
     "metadata": {},
     "output_type": "display_data"
    }
   ],
   "source": [
    "# 普通的梯度下降算法\n",
    "\n",
    "b = 400    # initial b\n",
    "w = 400      # initial w\n",
    "lr = 1e-5   # learning rate\n",
    "iteration = 100000\n",
    "\n",
    "# store initial values for plotting\n",
    "b_history = [b]\n",
    "w_history = [w]\n",
    "\n",
    "# iterater\n",
    "for i in range(iteration):\n",
    "    b_grad = 0.0\n",
    "    w_grad = 0.0\n",
    "    # calculate gradient\n",
    "    for n in range(len(x_data)):\n",
    "        b_grad = b_grad - 2.0 * (y_data[n] - b - w * x_data[n])\n",
    "        w_grad = w_grad - 2.0 * (y_data[n] - b - w * x_data[n]) * x_data[n]\n",
    "\n",
    "    # update patameters\n",
    "    b = b - lr * b_grad\n",
    "    w = w - lr * w_grad\n",
    "\n",
    "    # store paramaters for plotting\n",
    "    b_history.append(b)\n",
    "    w_history.append(w)\n",
    "\n",
    "# plot the figure\n",
    "plt.contourf(x, y, Z, 50, alpha=0.5, cmap=plt.get_cmap('jet'))\n",
    "plt.plot([b_best], [w_best], 'X', ms=12, markeredgewidth=3, color='black')\n",
    "plt.plot(b_history, w_history, 'o', ms=3, lw=1.5, color='black')\n",
    "plt.xlim(400, 500)\n",
    "plt.ylim(400, 500)\n",
    "plt.xlabel(r'$b$', fontsize=16)\n",
    "plt.ylabel(r'$w$', fontsize=16)\n",
    "plt.show()"
   ]
  }
 ],
 "metadata": {
  "kernelspec": {
   "display_name": "Python 3",
   "language": "python",
   "name": "python3"
  },
  "language_info": {
   "codemirror_mode": {
    "name": "ipython",
    "version": 3
   },
   "file_extension": ".py",
   "mimetype": "text/x-python",
   "name": "python",
   "nbconvert_exporter": "python",
   "pygments_lexer": "ipython3",
   "version": "3.6.1"
  }
 },
 "nbformat": 4,
 "nbformat_minor": 2
}
